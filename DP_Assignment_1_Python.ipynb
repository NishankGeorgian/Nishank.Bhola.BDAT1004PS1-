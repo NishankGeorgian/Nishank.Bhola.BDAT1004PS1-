{
 "cells": [
  {
   "cell_type": "markdown",
   "id": "c489b53d",
   "metadata": {},
   "source": [
    "# Name : Nishank Bhola\n",
    "\n",
    "# Only Python questions in this notebook"
   ]
  },
  {
   "cell_type": "markdown",
   "id": "f4c38243",
   "metadata": {},
   "source": [
    "# Question 6\n",
    " pig-Latin using the two rules"
   ]
  },
  {
   "cell_type": "code",
   "execution_count": 25,
   "id": "2c61f023",
   "metadata": {},
   "outputs": [
    {
     "name": "stdout",
     "output_type": "stream",
     "text": [
      "appyhay\n",
      "enterway\n"
     ]
    }
   ],
   "source": [
    "#Question 6\n",
    "\n",
    "def pig(word):\n",
    "    vowels = ['a','e','i','o','u']\n",
    "    word = word.lower()\n",
    "    \n",
    "    if(word[0] in vowels):\n",
    "        word = word+\"way\"\n",
    "    else:\n",
    "        word = list(word)\n",
    "        word.append(word[0])\n",
    "        word.pop(0)\n",
    "        word = ''.join(word) + \"ay\"\n",
    "    print(word)\n",
    "    \n",
    "pig('happy')\n",
    "pig('Enter')"
   ]
  },
  {
   "cell_type": "markdown",
   "id": "fe9729a9",
   "metadata": {},
   "source": [
    "# Question 7\n",
    "File bloodtype1.txt records blood-types of patients (A, B, AB, O or OO) at a clinic.\n",
    "Write a function bldcount() that reads the file with name name and reports (i.e.,\n",
    "prints) how many patients there are in each bloodtype."
   ]
  },
  {
   "cell_type": "code",
   "execution_count": 95,
   "id": "60919192",
   "metadata": {},
   "outputs": [
    {
     "name": "stdout",
     "output_type": "stream",
     "text": [
      "There are 13 patients of blood type AB\n",
      "There are 1 patients of blood type B\n",
      "There are 15 patients of blood type O\n",
      "There are 15 patients of blood type A\n"
     ]
    }
   ],
   "source": [
    "#Question 7\n",
    "\n",
    "def bldcount(filename):\n",
    "    myfile = open(filename)\n",
    "    allBloodGrps = myfile.readline()\n",
    "    allBloodGrps = allBloodGrps.split(\" \")\n",
    "    allBloodGrps.pop(-1)\n",
    "    alldict = {}\n",
    "\n",
    "    for bg in allBloodGrps:\n",
    "        alldict[bg] = allBloodGrps.count(bg)\n",
    "        \n",
    "    for key in alldict:\n",
    "        if (alldict[key] == 0):\n",
    "            alldict[key] = \"no\"\n",
    "        print(\"There are \"+str(alldict[key])+\" patients of blood type \" + key)\n",
    "    myfile.close()\n",
    "    \n",
    "bldcount(\"bloodtype1.txt\")"
   ]
  },
  {
   "cell_type": "markdown",
   "id": "62052406",
   "metadata": {},
   "source": [
    "# Question 8\n",
    "Write a function curconv() that takes as input:\n",
    "1. a currency represented using a string (e.g., 'JPY' for the Japanese Yen or\n",
    "'EUR' for the Euro)\n",
    "2. an amount\n",
    "and then converts and returns the amount in US dollars."
   ]
  },
  {
   "cell_type": "code",
   "execution_count": 2,
   "id": "367d3b2c",
   "metadata": {},
   "outputs": [
    {
     "name": "stdout",
     "output_type": "stream",
     "text": [
      "USD : 122.96544\n",
      "USD : 1.241401\n"
     ]
    }
   ],
   "source": [
    "#Question 8\n",
    "import pandas as pd\n",
    "def curconv(currencyID , amount):\n",
    "    filename = \"currencies.txt\"\n",
    "    df = pd.read_csv(filename, sep='\\t', lineterminator='\\n' , header=None, names=[\"currencyID\", \"currencyValue\" , \"currencyName\"])\n",
    "    #print(df)\n",
    "    exchangeRate = 0\n",
    "    for index, row in df.iterrows():\n",
    "        if(row['currencyID'] == currencyID):\n",
    "            exchangeRate = row['currencyValue']\n",
    "    \n",
    "    return (exchangeRate*amount)\n",
    "\n",
    "print(\"USD : \" + str(curconv('EUR', 100)))\n",
    "print(\"USD : \" + str(curconv('JPY', 100)))\n"
   ]
  },
  {
   "cell_type": "markdown",
   "id": "c3c4fa86",
   "metadata": {},
   "source": [
    "# Question 9\n",
    "Each of the following will cause an exception (an error). Identify what type of\n",
    "exception each will cause."
   ]
  },
  {
   "cell_type": "code",
   "execution_count": 21,
   "id": "12bf5165",
   "metadata": {},
   "outputs": [],
   "source": [
    "# Question 9\n",
    "# Trying to add incompatible variables, as in\n",
    "# adding 6 + ‘a’\n",
    "#6 + \"a\"\n",
    "\n",
    "# Referring to the 12th item of a list that has only 10\n",
    "# items\n",
    "# myList = [1,2,3,4,5,6]\n",
    "# print(myList[12])\n",
    "\n",
    "# Using a value that is out of range for a function’s\n",
    "# input, such as calling math.sqrt(-1.0)\n",
    "# import math\n",
    "# math.sqrt(-1.0)\n",
    "\n",
    "# Using an undeclared variable, such as print(x)\n",
    "# when x has not been defined\n",
    "# print(x)\n",
    "\n",
    "# Trying to open a file that does not exist, such as\n",
    "# mistyping the file name or looking in the wrong directory\n",
    "#myfile = open('filename.txt')"
   ]
  },
  {
   "cell_type": "markdown",
   "id": "cff5b0db",
   "metadata": {},
   "source": [
    "| Code | Error |\n",
    "| --- | ----------- |\n",
    "| 6 + ‘a’ | TypeError: unsupported operand type(s) for +: 'int' and 'str' |\n",
    "| print(myList[12]) | IndexError: list index out of range |\n",
    "| math.sqrt(-1.0) | ValueError: math domain error |\n",
    "| print(x) undeclared variable | NameError: name 'x' is not defined |\n",
    "| open('filename.txt') file that does not exist | FileNotFoundError: [Errno 2] No such file or directory: 'filename.txt' |"
   ]
  },
  {
   "cell_type": "markdown",
   "id": "de09a53c",
   "metadata": {},
   "source": [
    "# Question 10\n",
    "Write a function called frequencies()\n",
    "that takes a string as its only parameter, and returns a list of integers, showing the\n",
    "number of times each character appears in the text. Your function may ignore any\n",
    "characters that are not in letters. "
   ]
  },
  {
   "cell_type": "code",
   "execution_count": 1,
   "id": "24f0fb8c",
   "metadata": {},
   "outputs": [
    {
     "name": "stdout",
     "output_type": "stream",
     "text": [
      "Extracted all letters : ['T', 'h', 'e', 'q', 'u', 'i', 'c', 'k', 'r', 'e', 'd', 'f', 'o', 'x', 'g', 'o', 't', 'b', 'o', 'r', 'e', 'd', 'a', 'n', 'd', 'w', 'e', 'n', 't', 'h', 'o', 'm', 'e']\n",
      "\n",
      "Calculated frequency : {'T': 1, 'h': 2, 'e': 5, 'q': 1, 'u': 1, 'i': 1, 'c': 1, 'k': 1, 'r': 2, 'd': 3, 'f': 1, 'o': 4, 'x': 1, 'g': 1, 't': 2, 'b': 1, 'a': 1, 'n': 2, 'w': 1, 'm': 1}\n"
     ]
    },
    {
     "data": {
      "text/plain": [
       "[1, 2, 5, 1, 1, 1, 1, 1, 2, 3, 1, 4, 1, 1, 2, 1, 1, 2, 1, 1]"
      ]
     },
     "execution_count": 1,
     "metadata": {},
     "output_type": "execute_result"
    }
   ],
   "source": [
    "#Question 10\n",
    "import re\n",
    "\n",
    "def frequencies(sentence):\n",
    "    freqList = []\n",
    "    sentence = re.sub(\"[^a-zA-Z]\",\"\", sentence)\n",
    "    sentence = sentence.replace(' ','')\n",
    "    sentence = list(sentence)\n",
    "    \n",
    "    print(\"Extracted all letters : \" + str(sentence))\n",
    "    freqdict = {}\n",
    "\n",
    "    for letter in sentence:\n",
    "        freqdict[letter] = sentence.count(letter)\n",
    "    print(\"\\nCalculated frequency : \" + str(freqdict))\n",
    "    \n",
    "    \n",
    "    freqList = list(freqdict.values())\n",
    "    \n",
    "    return freqList \n",
    "\n",
    "frequencies('The quick red fox got bored and went home')"
   ]
  },
  {
   "cell_type": "code",
   "execution_count": null,
   "id": "7f773c35",
   "metadata": {},
   "outputs": [],
   "source": []
  }
 ],
 "metadata": {
  "kernelspec": {
   "display_name": "Python 3 (ipykernel)",
   "language": "python",
   "name": "python3"
  },
  "language_info": {
   "codemirror_mode": {
    "name": "ipython",
    "version": 3
   },
   "file_extension": ".py",
   "mimetype": "text/x-python",
   "name": "python",
   "nbconvert_exporter": "python",
   "pygments_lexer": "ipython3",
   "version": "3.9.7"
  }
 },
 "nbformat": 4,
 "nbformat_minor": 5
}
