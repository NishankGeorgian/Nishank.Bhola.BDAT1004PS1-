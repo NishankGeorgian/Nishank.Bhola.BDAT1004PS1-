{
 "cells": [
  {
   "cell_type": "markdown",
   "id": "39bac12b",
   "metadata": {},
   "source": [
    "# Name : Nishank Bhola"
   ]
  },
  {
   "cell_type": "code",
   "execution_count": 17,
   "id": "ed549ec4",
   "metadata": {},
   "outputs": [
    {
     "name": "stdout",
     "output_type": "stream",
     "text": [
      "This is a test\r\n"
     ]
    }
   ],
   "source": [
    "//Testing C# Kernel\n",
    "Console.WriteLine(\"This is a test\");"
   ]
  },
  {
   "cell_type": "markdown",
   "id": "8d8e1563",
   "metadata": {},
   "source": [
    "# Question 1\n",
    "What data type is each of the following?"
   ]
  },
  {
   "cell_type": "code",
   "execution_count": 30,
   "id": "855c9e0e",
   "metadata": {
    "scrolled": true
   },
   "outputs": [
    {
     "name": "stdout",
     "output_type": "stream",
     "text": [
      "System.Int32\n",
      "System.Double\n",
      "System.Boolean\n",
      "System.Char\n",
      "System.Int32\n",
      "System.Int32\n",
      "System.Int32\n",
      "System.Int32\n",
      "System.Int32\n",
      "System.Int32[]\n",
      "System.Boolean\n",
      "System.Double\n"
     ]
    }
   ],
   "source": [
    "//Question 1 \n",
    "object test1 = 5;\n",
    "Console.WriteLine(test1.GetType());\n",
    "\n",
    "object test2 = 5.0;\n",
    "Console.WriteLine(test2.GetType());\n",
    "\n",
    "object test3 = 5 > 1;\n",
    "Console.WriteLine(test3.GetType());\n",
    "\n",
    "object test4 = '5';\n",
    "Console.WriteLine(test4.GetType());\n",
    "\n",
    "object test5 = 5 * 2;\n",
    "Console.WriteLine(test5.GetType());\n",
    "\n",
    "object test6 = '5' * 2;\n",
    "Console.WriteLine(test6.GetType());\n",
    "\n",
    "object test7 = '5' + '2';\n",
    "Console.WriteLine(test7.GetType());\n",
    "\n",
    "object test8 = 5 / 2;\n",
    "Console.WriteLine(test8.GetType());\n",
    "\n",
    "object test9 = 5 % 2;\n",
    "Console.WriteLine(test9.GetType());\n",
    "\n",
    "var test10 = new[] {5, 2, 1};\n",
    "Console.WriteLine(test10.GetType());\n",
    "\n",
    "object test11 = 5 == 3;\n",
    "Console.WriteLine(test11.GetType());\n",
    "\n",
    "object test12 = Math.PI;\n",
    "Console.WriteLine(test12.GetType());"
   ]
  },
  {
   "cell_type": "markdown",
   "id": "e5034899",
   "metadata": {},
   "source": [
    "| Input | DataType |\n",
    "| --- | ----------- |\n",
    "| 5 | System.Int32|\n",
    "| 5.0 | System.Double |\n",
    "|5 > 1 | System.Boolean |\n",
    "| '5' | System.Char |\n",
    "|5 * 2 | System.Int32 |\n",
    "| '5' * 2 | System.Int32|\n",
    "| '5' + '2' | System.Int32|\n",
    "| 5 / 2 | System.Int32|\n",
    "| 5 % 2 | System.Int32|\n",
    "| new[] {5, 2, 1} | System.Int32[]|\n",
    "| 5 == 3 | System.Boolean|\n",
    "| Math.PI | System.Double|"
   ]
  },
  {
   "cell_type": "markdown",
   "id": "dcf7547b",
   "metadata": {},
   "source": [
    "# Question 2 - Part A\n",
    "How many letters are there in 'Supercalifragilisticexpialidocious'?"
   ]
  },
  {
   "cell_type": "code",
   "execution_count": 27,
   "id": "02e76ae3",
   "metadata": {},
   "outputs": [
    {
     "name": "stdout",
     "output_type": "stream",
     "text": [
      "34\r\n"
     ]
    }
   ],
   "source": [
    "//Question 2 - Part A\n",
    "\n",
    "var ques2 = \"Supercalifragilisticexpialidocious\";\n",
    "Console.WriteLine(ques2.Length);"
   ]
  },
  {
   "cell_type": "markdown",
   "id": "839e6604",
   "metadata": {},
   "source": [
    "# Question 2 - Part B\n",
    "Does 'Supercalifragilisticexpialidocious' contain 'ice' as a substring? "
   ]
  },
  {
   "cell_type": "code",
   "execution_count": 35,
   "id": "57f20360",
   "metadata": {},
   "outputs": [
    {
     "name": "stdout",
     "output_type": "stream",
     "text": [
      "YES it contains ice : 1\r\n"
     ]
    }
   ],
   "source": [
    "//Question 2 - Part B\n",
    "\n",
    "string partB = \"Supercalifragilisticexpialidocious\";\n",
    "\n",
    "int count = 0;\n",
    "\n",
    "for (int i = 1 ; i < partB.Length ; i++ ){\n",
    "    if(partB[i] == 'i' && partB[i+1] == 'c' && partB[i+2] == 'e'){\n",
    "        count = count + 1;\n",
    "        \n",
    "    }\n",
    "}\n",
    "if(count>0){\n",
    "    Console.WriteLine(\"YES it contains ice : \"+ count);\n",
    "}\n"
   ]
  },
  {
   "cell_type": "markdown",
   "id": "4b1937ab",
   "metadata": {},
   "source": [
    "# Question 2 - Part C\n",
    "Which of the following words is the longest:\n",
    "Supercalifragilisticexpialidocious, Honorificabilitudinitatibus, or\n",
    "Bababadalgharaghtakamminarronnkonn? "
   ]
  },
  {
   "cell_type": "code",
   "execution_count": 13,
   "id": "21bd775a",
   "metadata": {},
   "outputs": [
    {
     "name": "stdout",
     "output_type": "stream",
     "text": [
      "Key: Supercalifragilisticexpialidocious, Value: 34\n",
      "Key: Honorificabilitudinitatibus, Value: 27\n",
      "Key: Bababadalgharaghtakamminarronnkonn, Value: 34\n",
      "max word length is 34\n",
      "Longest word are : Supercalifragilisticexpialidocious\n",
      "Longest word are : Bababadalgharaghtakamminarronnkonn\n"
     ]
    }
   ],
   "source": [
    "//Question 2 - Part C\n",
    "\n",
    "int str1 = \"Supercalifragilisticexpialidocious\".Length;\n",
    "int str2 = \"Honorificabilitudinitatibus\".Length;\n",
    "int str3 = \"Bababadalgharaghtakamminarronnkonn\".Length;\n",
    "\n",
    "IDictionary<string, int> allstrs = new Dictionary<string, int>();\n",
    "allstrs.Add(\"Supercalifragilisticexpialidocious\" , str1); \n",
    "allstrs.Add(\"Honorificabilitudinitatibus\" , str2); \n",
    "allstrs.Add(\"Bababadalgharaghtakamminarronnkonn\" , str3); \n",
    "\n",
    "foreach(var kvpair in allstrs)\n",
    "    Console.WriteLine(\"Key: {0}, Value: {1}\", kvpair.Key, kvpair.Value);\n",
    "    \n",
    "int maxof2 = Math.Max(str1, str2);\n",
    "\n",
    "int maxOfAll = Math.Max(maxof2 , str3);\n",
    "Console.WriteLine(\"max word length is \" + maxOfAll);\n",
    "\n",
    "foreach(var kvpair in allstrs)\n",
    "     if(kvpair.Value == maxOfAll)\n",
    "     {\n",
    "        Console.WriteLine(\"Longest word are : \" +kvpair.Key);\n",
    "     };"
   ]
  },
  {
   "cell_type": "markdown",
   "id": "45ddd46a",
   "metadata": {},
   "source": [
    "# Question 2 - Part D\n",
    "Which composer comes first in the dictionary: 'Berlioz', 'Borodin', 'Brian',\n",
    "'Bartok', 'Bellini', 'Buxtehude', 'Bernstein'. Which one comes last?"
   ]
  },
  {
   "cell_type": "code",
   "execution_count": 39,
   "id": "f67ed706",
   "metadata": {},
   "outputs": [
    {
     "name": "stdout",
     "output_type": "stream",
     "text": [
      "Key: Bartok, Value: 1\n",
      "Key: Bellini, Value: 2\n",
      "Key: Berlioz, Value: 3\n",
      "Key: Bernstein, Value: 4\n",
      "Key: Borodin, Value: 5\n",
      "Key: Brian, Value: 6\n",
      "Key: Buxtehude, Value: 7\n"
     ]
    }
   ],
   "source": [
    "//Question 2 - Part D\n",
    "\n",
    "string[] words = new string[] { \"Berlioz\", \"Borodin\", \"Brian\", \"Bartok\", \"Bellini\", \"Buxtehude\", \"Bernstein\" };\n",
    "Array.Sort(words);\n",
    "IDictionary<string, int> allWords = new Dictionary<string, int>();\n",
    "int count = 1;\n",
    "        foreach (string word in words)\n",
    "        {\n",
    "            allWords.Add(word,count);\n",
    "            count = count + 1;\n",
    "            //Console.WriteLine(word);\n",
    "        }\n",
    "\n",
    "foreach(var kvpair in allWords)\n",
    "    Console.WriteLine(\"Key: {0}, Value: {1}\", kvpair.Key, kvpair.Value);"
   ]
  },
  {
   "cell_type": "markdown",
   "id": "2f1e4d62",
   "metadata": {},
   "source": [
    "# Question 3\n",
    "Implement function triangleArea(a,b,c) that takes as input the lengths of the 3\n",
    "sides of a triangle and returns the area of the triangle. By Heron's formula, the area\n",
    "of a triangle with side lengths a, b, and c is\n",
    "s(s - a)(s -b)(s -c), where\n",
    "s = (a+b+c)/2. "
   ]
  },
  {
   "cell_type": "code",
   "execution_count": 134,
   "id": "e7c9d70b",
   "metadata": {},
   "outputs": [
    {
     "name": "stdout",
     "output_type": "stream",
     "text": [
      "1.7320508075688772\r\n"
     ]
    }
   ],
   "source": [
    "//Question 3\n",
    "\n",
    "public double triangleArea(double num1, double num2, double num3)\n",
    "{\n",
    "    double s = (num1+num2+num3)/2;\n",
    "    double area = s*(s - num1)*(s - num2)*(s - num3);\n",
    "    area = Math.Sqrt(area);\n",
    "    return area;\n",
    "}\n",
    "\n",
    "double result = triangleArea(2,2,2);\n",
    "Console.WriteLine(result);"
   ]
  },
  {
   "cell_type": "markdown",
   "id": "3d7f0bf0",
   "metadata": {},
   "source": [
    "# Question 4\n",
    "\n",
    "# Console.ReadLine() is not working in jupyter notebook so providing the input manually;\n",
    "Write a program in C# Sharp to separate odd and even integers in separate arrays. "
   ]
  },
  {
   "cell_type": "code",
   "execution_count": 29,
   "id": "38422461",
   "metadata": {},
   "outputs": [
    {
     "name": "stdout",
     "output_type": "stream",
     "text": [
      "The Even elements are:\n",
      "42\n",
      "56\n",
      "32\n",
      "The Odd elements are :\n",
      "25\n",
      "47\n"
     ]
    }
   ],
   "source": [
    "//Question 4\n",
    "\n",
    "List<int> arrs= new List<int>();\n",
    "arrs.Add(42);\n",
    "arrs.Add(25);\n",
    "arrs.Add(47);\n",
    "arrs.Add(56);\n",
    "arrs.Add(32);\n",
    "\n",
    "int numberOfEle = 5;\n",
    "\n",
    "List<int> arrayEven= new List<int>();\n",
    "List<int> arrayOdd= new List<int>();\n",
    "        \n",
    "foreach (int arr in arrs){\n",
    "    if(arr%2 == 0){\n",
    "        arrayEven.Add(arr);\n",
    "    }\n",
    "    else{\n",
    "        arrayOdd.Add(arr);\n",
    "    }\n",
    "}\n",
    "\n",
    "Console.WriteLine(\"The Even elements are:\");\n",
    "arrayEven.ForEach(Console.WriteLine);\n",
    "Console.WriteLine(\"The Odd elements are :\");\n",
    "arrayOdd.ForEach(Console.WriteLine);"
   ]
  },
  {
   "cell_type": "markdown",
   "id": "4dce73fb",
   "metadata": {},
   "source": [
    "# Question 5 - PART A\n",
    "Write a function inside(x,y,x1,y1,x2,y2) that returns True or False\n",
    "depending on whether the point (x,y) lies in the rectangle with lower left\n",
    "corner (x1,y1) and upper right corner (x2,y2)."
   ]
  },
  {
   "cell_type": "code",
   "execution_count": 18,
   "id": "e8b768ee",
   "metadata": {},
   "outputs": [
    {
     "name": "stdout",
     "output_type": "stream",
     "text": [
      "True\n",
      "False\n"
     ]
    }
   ],
   "source": [
    "//Question 5 - PART A\n",
    "\n",
    "public bool getPoint(double  x, double  y, double  x1, double  y1, double  x2, double  y2)\n",
    "    {\n",
    "        if (x > x1 && x < x2 && y > y1 && y < y2) \n",
    "        {\n",
    "            return true;\n",
    "        }\n",
    "        else{\n",
    "            return false;\n",
    "        }   \n",
    "        \n",
    "    }\n",
    "\n",
    "public bool inside(double  x, double  y, double  x1, double  y1, double  x2, double  y2)\n",
    "{\n",
    "    \n",
    "    if(getPoint(x,y,x1,y1,x2,y2))\n",
    "    {\n",
    "        return true;\n",
    "    }\n",
    "    else\n",
    "    {\n",
    "        return false;\n",
    "    }\n",
    "    \n",
    "}\n",
    "\n",
    "Console.WriteLine(inside(1,1,0,0,2,3));\n",
    "Console.WriteLine(inside(-1,-1,0,0,2,3));\n"
   ]
  },
  {
   "cell_type": "markdown",
   "id": "c9d934c5",
   "metadata": {},
   "source": [
    "# Question 5 - PART B\n",
    "Use function inside() from part a. to write an expression that tests whether\n",
    "the point (1,1) lies in both of the following rectangles: one with lower left\n",
    "corner (0.3, 0.5) and upper right corner (1.1, 0.7) and the other with lower\n",
    "left corner (0.5, 0.2) and upper right corner (1.1, 2). "
   ]
  },
  {
   "cell_type": "code",
   "execution_count": 25,
   "id": "03cc76be",
   "metadata": {},
   "outputs": [
    {
     "name": "stdout",
     "output_type": "stream",
     "text": [
      "False\n",
      "False\n"
     ]
    }
   ],
   "source": [
    "//Question 5 - PART B\n",
    "\n",
    "Console.WriteLine(inside(1,1,0.3,1.1,0.5,0.7));\n",
    "Console.WriteLine(inside(1,1,0.5,1.1,0.2,2));\n"
   ]
  },
  {
   "cell_type": "code",
   "execution_count": 6,
   "id": "6f17980a",
   "metadata": {},
   "outputs": [
    {
     "name": "stdout",
     "output_type": "stream",
     "text": [
      "Testing python kernel\n"
     ]
    }
   ],
   "source": [
    "#Testing Python Kernel\n",
    "print(\"Testing python kernel\")"
   ]
  },
  {
   "cell_type": "markdown",
   "id": "3577580b",
   "metadata": {},
   "source": [
    "# Question 6\n",
    " pig-Latin using the two rules"
   ]
  },
  {
   "cell_type": "code",
   "execution_count": 1,
   "id": "5d52cb65",
   "metadata": {},
   "outputs": [
    {
     "name": "stdout",
     "output_type": "stream",
     "text": [
      "appyhay\n",
      "enterway\n"
     ]
    }
   ],
   "source": [
    "#Question 6\n",
    "\n",
    "def pig(word):\n",
    "    vowels = ['a','e','i','o','u']\n",
    "    word = word.lower()\n",
    "    \n",
    "    if(word[0] in vowels):\n",
    "        word = word+\"way\"\n",
    "    else:\n",
    "        word = list(word)\n",
    "        word.append(word[0])\n",
    "        word.pop(0)\n",
    "        word = ''.join(word) + \"ay\"\n",
    "    print(word)\n",
    "    \n",
    "pig('happy')\n",
    "pig('Enter')"
   ]
  },
  {
   "cell_type": "markdown",
   "id": "2eb3f4fe",
   "metadata": {},
   "source": [
    "# Question 7\n",
    "File bloodtype1.txt records blood-types of patients (A, B, AB, O or OO) at a clinic.\n",
    "Write a function bldcount() that reads the file with name name and reports (i.e.,\n",
    "prints) how many patients there are in each bloodtype."
   ]
  },
  {
   "cell_type": "code",
   "execution_count": 2,
   "id": "8d9d1833",
   "metadata": {},
   "outputs": [
    {
     "name": "stdout",
     "output_type": "stream",
     "text": [
      "There are 13 patients of blood type AB\n",
      "There are 1 patients of blood type B\n",
      "There are 15 patients of blood type O\n",
      "There are 15 patients of blood type A\n"
     ]
    }
   ],
   "source": [
    "#Question 7\n",
    "\n",
    "def bldcount(filename):\n",
    "    myfile = open(filename)\n",
    "    allBloodGrps = myfile.readline()\n",
    "    allBloodGrps = allBloodGrps.split(\" \")\n",
    "    allBloodGrps.pop(-1)\n",
    "    alldict = {}\n",
    "\n",
    "    for bg in allBloodGrps:\n",
    "        alldict[bg] = allBloodGrps.count(bg)\n",
    "        \n",
    "    for key in alldict:\n",
    "        if (alldict[key] == 0):\n",
    "            alldict[key] = \"no\"\n",
    "        print(\"There are \"+str(alldict[key])+\" patients of blood type \" + key)\n",
    "    myfile.close()\n",
    "    \n",
    "bldcount(\"bloodtype1.txt\")"
   ]
  },
  {
   "cell_type": "markdown",
   "id": "f268ae1c",
   "metadata": {},
   "source": [
    "# Question 8\n",
    "Write a function curconv() that takes as input:\n",
    "1. a currency represented using a string (e.g., 'JPY' for the Japanese Yen or\n",
    "'EUR' for the Euro)\n",
    "2. an amount\n",
    "and then converts and returns the amount in US dollars."
   ]
  },
  {
   "cell_type": "code",
   "execution_count": 3,
   "id": "94de672a",
   "metadata": {},
   "outputs": [
    {
     "name": "stdout",
     "output_type": "stream",
     "text": [
      "USD : 122.96544\n",
      "USD : 1.241401\n"
     ]
    }
   ],
   "source": [
    "#Question 8\n",
    "import pandas as pd\n",
    "def curconv(currencyID , amount):\n",
    "    filename = \"currencies.txt\"\n",
    "    df = pd.read_csv(filename, sep='\\t', lineterminator='\\n' , header=None, names=[\"currencyID\", \"currencyValue\" , \"currencyName\"])\n",
    "    #print(df)\n",
    "    exchangeRate = 0\n",
    "    for index, row in df.iterrows():\n",
    "        if(row['currencyID'] == currencyID):\n",
    "            exchangeRate = row['currencyValue']\n",
    "    \n",
    "    return (exchangeRate*amount)\n",
    "\n",
    "print(\"USD : \" + str(curconv('EUR', 100)))\n",
    "print(\"USD : \" + str(curconv('JPY', 100)))\n"
   ]
  },
  {
   "cell_type": "markdown",
   "id": "5a56cc0a",
   "metadata": {},
   "source": [
    "# Question 9\n",
    "Each of the following will cause an exception (an error). Identify what type of\n",
    "exception each will cause."
   ]
  },
  {
   "cell_type": "markdown",
   "id": "68e0e2ef",
   "metadata": {},
   "source": [
    "| Code | Error |\n",
    "| --- | ----------- |\n",
    "| 6 + ‘a’ | TypeError: unsupported operand type(s) for +: 'int' and 'str' |\n",
    "| print(myList[12]) | IndexError: list index out of range |\n",
    "| math.sqrt(-1.0) | ValueError: math domain error |\n",
    "| print(x) undeclared variable | NameError: name 'x' is not defined |\n",
    "| open('filename.txt') file that does not exist | FileNotFoundError: [Errno 2] No such file or directory: 'filename.txt' |"
   ]
  },
  {
   "cell_type": "markdown",
   "id": "744a74c9",
   "metadata": {},
   "source": [
    "# Question 10\n",
    "Write a function called frequencies()\n",
    "that takes a string as its only parameter, and returns a list of integers, showing the\n",
    "number of times each character appears in the text. Your function may ignore any\n",
    "characters that are not in letters. "
   ]
  },
  {
   "cell_type": "code",
   "execution_count": 4,
   "id": "d0c55d89",
   "metadata": {},
   "outputs": [
    {
     "name": "stdout",
     "output_type": "stream",
     "text": [
      "Extracted all letters : ['T', 'h', 'e', 'q', 'u', 'i', 'c', 'k', 'r', 'e', 'd', 'f', 'o', 'x', 'g', 'o', 't', 'b', 'o', 'r', 'e', 'd', 'a', 'n', 'd', 'w', 'e', 'n', 't', 'h', 'o', 'm', 'e']\n",
      "\n",
      "Calculated frequency : {'T': 1, 'h': 2, 'e': 5, 'q': 1, 'u': 1, 'i': 1, 'c': 1, 'k': 1, 'r': 2, 'd': 3, 'f': 1, 'o': 4, 'x': 1, 'g': 1, 't': 2, 'b': 1, 'a': 1, 'n': 2, 'w': 1, 'm': 1}\n"
     ]
    },
    {
     "data": {
      "text/plain": [
       "[1, 2, 5, 1, 1, 1, 1, 1, 2, 3, 1, 4, 1, 1, 2, 1, 1, 2, 1, 1]"
      ]
     },
     "execution_count": 4,
     "metadata": {},
     "output_type": "execute_result"
    }
   ],
   "source": [
    "#Question 10\n",
    "import re\n",
    "\n",
    "def frequencies(sentence):\n",
    "    freqList = []\n",
    "    sentence = re.sub(\"[^a-zA-Z]\",\"\", sentence)\n",
    "    sentence = sentence.replace(' ','')\n",
    "    sentence = list(sentence)\n",
    "    \n",
    "    print(\"Extracted all letters : \" + str(sentence))\n",
    "    freqdict = {}\n",
    "\n",
    "    for letter in sentence:\n",
    "        freqdict[letter] = sentence.count(letter)\n",
    "    print(\"\\nCalculated frequency : \" + str(freqdict))\n",
    "    \n",
    "    \n",
    "    freqList = list(freqdict.values())\n",
    "    \n",
    "    return freqList \n",
    "\n",
    "frequencies('The quick red fox got bored and went home')"
   ]
  },
  {
   "cell_type": "code",
   "execution_count": null,
   "id": "474a5d13",
   "metadata": {},
   "outputs": [],
   "source": []
  }
 ],
 "metadata": {
  "kernelspec": {
   "display_name": "Python 3 (ipykernel)",
   "language": "python",
   "name": "python3"
  },
  "language_info": {
   "codemirror_mode": {
    "name": "ipython",
    "version": 3
   },
   "file_extension": ".py",
   "mimetype": "text/x-python",
   "name": "python",
   "nbconvert_exporter": "python",
   "pygments_lexer": "ipython3",
   "version": "3.9.7"
  }
 },
 "nbformat": 4,
 "nbformat_minor": 5
}
